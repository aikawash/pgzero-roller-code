{
 "cells": [
  {
   "cell_type": "code",
   "execution_count": null,
   "id": "indonesian-gossip",
   "metadata": {},
   "outputs": [],
   "source": []
  },
  {
   "cell_type": "code",
   "execution_count": 1,
   "id": "french-potter",
   "metadata": {},
   "outputs": [],
   "source": [
    "import subprocess\n",
    "import yaml\n",
    "import time"
   ]
  },
  {
   "cell_type": "code",
   "execution_count": 2,
   "id": "frank-million",
   "metadata": {},
   "outputs": [],
   "source": [
    "def ticcmd(*args):\n",
    "    \"\"\" send the command to the controller\n",
    "    \n",
    "    Parameters:\n",
    "        args -- tic command\n",
    "    Precondition:\n",
    "        the control mode of stepper controller is Serial/I2C/USB\n",
    "    \"\"\" \n",
    "    return subprocess.check_output(['ticcmd'] + list(args))\n",
    "\n",
    "def currentPos(ser):\n",
    "    \"\"\" Get and print current position of the stepper\n",
    "\n",
    "    Parameters:\n",
    "        ser -- stepper controller id\n",
    "    \"\"\"\n",
    "    status = yaml.load(ticcmd('-d',ser,'-s'))\n",
    "    position = int(status['Current position'])\n",
    "    print(position)\n",
    "    \n",
    "    return position\n",
    "\n",
    "def setPos(ser,pos):\n",
    "    \"\"\" Set the position of stepper\n",
    "    \n",
    "    Parameters:\n",
    "        ser -- stepper controller id\n",
    "        pos -- new position for this stepper\n",
    "    \"\"\"\n",
    "    ticcmd('-d',ser,'--halt-and-set-position',str(pos))\n",
    "    return\n",
    "\n",
    "def setTarget(leftser,rightser,tar):\n",
    "    \"\"\" Roll paper to the target\n",
    "    \n",
    "    Parameters:\n",
    "        leftser -- left side stepper controller id\n",
    "        rightser -- right side stepper controller id\n",
    "        tar -- target of the paper roll, from -3000 to 3000\n",
    "    Precondition:\n",
    "        Set the current limit to 1092mA\n",
    "        Set the stepper speed to 200, not sure, need check...\n",
    "        Before the first time call this function, manually move the paper roll \n",
    "        to the original point and set two stepper's position to 0\n",
    "    \"\"\"\n",
    "    t1 = time.time()\n",
    "    t2 = time.time()\n",
    "    \n",
    "    #current position of one stepper\n",
    "    pos = currentPos(leftser)\n",
    "    \n",
    "    #calculate the running time based on the speed\n",
    "    runtime = abs(pos-tar)/190\n",
    "    \n",
    "    while ((t2-t1)<runtime):\n",
    "        ticcmd('-d',leftser,'--exit-safe-start','--position', str(tar))\n",
    "        ticcmd('-d',rightser,'--exit-safe-start', '--position', str(tar))\n",
    "        t2 = time.time()\n",
    "    \n",
    "    #keep the tension of paper\n",
    "    ticcmd('-d',leftser,'--exit-safe-start','--position', str(tar+45))\n",
    "    ticcmd('-d',rightser,'--exit-safe-start','--position', str(tar-45))    \n",
    "    time.sleep(0.5)\n",
    "    \n",
    "    #reset the position\n",
    "    setPos(leftser,tar)\n",
    "    setPos(rightser,tar)\n",
    "    \n",
    "    return"
   ]
  },
  {
   "cell_type": "code",
   "execution_count": 27,
   "id": "embedded-mentor",
   "metadata": {},
   "outputs": [
    {
     "name": "stderr",
     "output_type": "stream",
     "text": [
      "<ipython-input-2-823ee94a78bd>:5: YAMLLoadWarning: calling yaml.load() without Loader=... is deprecated, as the default Loader is unsafe. Please read https://msg.pyyaml.org/load for full details.\n",
      "  status = yaml.load(ticcmd('-d',ser,'-s'))\n"
     ]
    },
    {
     "name": "stdout",
     "output_type": "stream",
     "text": [
      "0\n",
      "0\n",
      "0\n"
     ]
    }
   ],
   "source": [
    "SERIAL1 = '00377013'\n",
    "SERIAL2 = '00376994'\n",
    "\n",
    "currentPos(SERIAL1)\n",
    "currentPos(SERIAL2)\n",
    "\n",
    "setTarget(SERIAL1,SERIAL2,0)"
   ]
  },
  {
   "cell_type": "code",
   "execution_count": null,
   "id": "foreign-director",
   "metadata": {},
   "outputs": [],
   "source": []
  }
 ],
 "metadata": {
  "kernelspec": {
   "display_name": "Python 3",
   "language": "python",
   "name": "python3"
  },
  "language_info": {
   "codemirror_mode": {
    "name": "ipython",
    "version": 3
   },
   "file_extension": ".py",
   "mimetype": "text/x-python",
   "name": "python",
   "nbconvert_exporter": "python",
   "pygments_lexer": "ipython3",
   "version": "3.8.5"
  }
 },
 "nbformat": 4,
 "nbformat_minor": 5
}
